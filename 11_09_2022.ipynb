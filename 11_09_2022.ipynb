{
  "nbformat": 4,
  "nbformat_minor": 0,
  "metadata": {
    "colab": {
      "provenance": [],
      "collapsed_sections": [],
      "include_colab_link": true
    },
    "kernelspec": {
      "name": "python3",
      "display_name": "Python 3"
    },
    "language_info": {
      "name": "python"
    },
    "accelerator": "GPU",
    "gpuClass": "standard"
  },
  "cells": [
    {
      "cell_type": "markdown",
      "metadata": {
        "id": "view-in-github",
        "colab_type": "text"
      },
      "source": [
        "<a href=\"https://colab.research.google.com/github/sankethiyer217/Speech_Recognition/blob/main/11_09_2022.ipynb\" target=\"_parent\"><img src=\"https://colab.research.google.com/assets/colab-badge.svg\" alt=\"Open In Colab\"/></a>"
      ]
    },
    {
      "cell_type": "code",
      "execution_count": 1,
      "metadata": {
        "colab": {
          "base_uri": "https://localhost:8080/"
        },
        "id": "M3g9OGVmr_Lt",
        "outputId": "8094f764-1842-42a1-f4bd-bbfd323cc33e"
      },
      "outputs": [
        {
          "output_type": "stream",
          "name": "stdout",
          "text": [
            "Warning: Your Kaggle API key is readable by other users on this system! To fix this, you can run 'chmod 600 /content/kaggle.json'\n",
            "Downloading darpa-timit-acousticphonetic-continuous-speech.zip to /content\n",
            " 99% 818M/829M [00:03<00:00, 241MB/s]\n",
            "100% 829M/829M [00:03<00:00, 260MB/s]\n"
          ]
        }
      ],
      "source": [
        "import os\n",
        "os.environ['KAGGLE_CONFIG_DIR']='/content'\n",
        "!kaggle datasets download -d mfekadu/darpa-timit-acousticphonetic-continuous-speech"
      ]
    },
    {
      "cell_type": "code",
      "source": [
        "!unzip -q *.zip"
      ],
      "metadata": {
        "id": "9RKe2TvQsXCS"
      },
      "execution_count": 2,
      "outputs": []
    },
    {
      "cell_type": "code",
      "source": [
        "import tensorflow as tf\n",
        "import librosa\n",
        "import librosa.display\n",
        "import pandas as pd\n",
        "import numpy as np\n",
        "import matplotlib.pyplot as plt\n",
        "%matplotlib inline\n",
        "import IPython.display as ipd\n",
        "import re\n",
        "import os"
      ],
      "metadata": {
        "id": "340_f930sYgV"
      },
      "execution_count": 3,
      "outputs": []
    },
    {
      "cell_type": "code",
      "source": [
        "imp_phoneme = {\n",
        "    'iy':'iy',  'ih':'ih',   'eh':'eh',  'ae':'ae',    'ix':'ih',  'ax':'ah',   'ah':'ah',  'uw':'uw',\n",
        "    'ux':'uw',  'uh':'uh',   'ao':'aa',  'aa':'aa',    'ey':'ey',  'ay':'ay',   'oy':'oy',  'aw':'aw',\n",
        "    'ow':'ow',  'l':'l',     'el':'l',  'r':'r',      'y':'y',    'w':'w',     'er':'er',  'axr':'er',\n",
        "    'm':'m',    'em':'m',     'n':'n',    'nx':'n',     'en':'n',  'ng':'ng',   'eng':'ng', 'ch':'ch',\n",
        "    'jh':'jh',  'dh':'dh',   'b':'b',    'd':'d',      'dx':'dx',  'g':'g',     'p':'p',    't':'t',\n",
        "    'k':'k',    'z':'z',     'zh':'sh',  'v':'v',      'f':'f',    'th':'th',   's':'s',    'sh':'sh',\n",
        "    'hh':'hh',  'hv':'hh',   'pcl':'h#', 'tcl':'h#', 'kcl':'h#', 'qcl':'h#','bcl':'h#','dcl':'h#',\n",
        "    'gcl':'h#','h#':'h#',  '#h':'h#',  'pau':'h#', 'epi': 'h#','nx':'n',   'ax-h':'ah','q':'h#' \n",
        "}"
      ],
      "metadata": {
        "id": "Sq9FSCjGfbot"
      },
      "execution_count": 4,
      "outputs": []
    },
    {
      "cell_type": "code",
      "source": [
        "def not_phoneme(x):\n",
        "    try:\n",
        "        return imp_phoneme[x]\n",
        "    except:\n",
        "        return 'h#'"
      ],
      "metadata": {
        "id": "1cmvtlZZsuER"
      },
      "execution_count": 5,
      "outputs": []
    },
    {
      "cell_type": "code",
      "source": [
        "phon39 = list(set(imp_phoneme.values()))\n",
        "\n",
        "label_p39 = {}\n",
        "for i, p in enumerate(phon39):\n",
        "    label_p39[p] = i+1"
      ],
      "metadata": {
        "id": "SjDXwsCIr58Y"
      },
      "execution_count": 6,
      "outputs": []
    },
    {
      "cell_type": "code",
      "source": [
        "from tqdm import tqdm"
      ],
      "metadata": {
        "id": "8RkxPZF8BSMC"
      },
      "execution_count": 7,
      "outputs": []
    },
    {
      "cell_type": "code",
      "source": [
        "acoustic_features = []\n",
        "label_vectors = []\n",
        "for dirname, _, filenames in tqdm(os.walk('/content/data/TRAIN/')):\n",
        "    for filename in filenames:\n",
        "        wav_filepath = os.path.join(dirname, filename)\n",
        "        if '.wav' not in wav_filepath:\n",
        "          if '.WAV' in wav_filepath:\n",
        "\n",
        "              ph_filepath = wav_filepath.replace('.WAV', '.PHN')\n",
        "              ph_df = pd.read_csv(ph_filepath, sep=' ', header=None)\n",
        "              ph_df.columns = ['start', 'end', 'phoneme']\n",
        "              ph_df['phoneme'] = ph_df['phoneme'].apply(lambda x: re.sub(\"[^a-zA-Z]\",\"\",x))\n",
        "              ph_df['phoneme'] = ph_df['phoneme'].apply(lambda x: not_phoneme(x))\n",
        "\n",
        "              x , sr = librosa.load(wav_filepath)\n",
        "              mfcc = librosa.feature.mfcc(x, sr=sr, n_mfcc=128).T\n",
        "              db_mfcc = librosa.amplitude_to_db(mfcc, ref=np.max)\n",
        "              db_mfcc = np.mean(mfcc, axis=0)\n",
        "              mel_spec=librosa.feature.melspectrogram(x, sr=sr, n_fft=2048).T\n",
        "              db_mel=librosa.amplitude_to_db(mel_spec, ref=np.max)\n",
        "              db_mel = np.mean(mel_spec, axis=0)\n",
        "\n",
        "              label = [0 for i in range(39)]\n",
        "              for l in ph_df['phoneme'].unique():\n",
        "                  label[label_p39[l]-1] = 1\n",
        "              label_vectors.append(label)\n",
        "              acoustic_features.append(db_mfcc+db_mel)"
      ],
      "metadata": {
        "id": "QijJAjwLcriO",
        "colab": {
          "base_uri": "https://localhost:8080/"
        },
        "outputId": "6ad23b4b-d26e-4d1b-cee7-4726ecbc94f0"
      },
      "execution_count": null,
      "outputs": [
        {
          "output_type": "stream",
          "name": "stderr",
          "text": [
            "351it [06:57,  1.29s/it]"
          ]
        }
      ]
    },
    {
      "cell_type": "code",
      "source": [
        "acoustic_features_ = np.array(acoustic_features)\n",
        "label_vectors_ = np.array(label_vectors)"
      ],
      "metadata": {
        "id": "2mwGpr6MuP4g"
      },
      "execution_count": 9,
      "outputs": []
    },
    {
      "cell_type": "code",
      "source": [
        "acoustic_features_.shape"
      ],
      "metadata": {
        "id": "npoiM9_6_H23",
        "outputId": "f34bbf94-3325-4727-aa56-6fb533f14c7f",
        "colab": {
          "base_uri": "https://localhost:8080/"
        }
      },
      "execution_count": 10,
      "outputs": [
        {
          "output_type": "execute_result",
          "data": {
            "text/plain": [
              "(4620, 128)"
            ]
          },
          "metadata": {},
          "execution_count": 10
        }
      ]
    },
    {
      "cell_type": "code",
      "source": [
        "training_size = int(acoustic_features_.shape[0] * 0.80)\n",
        "training_size"
      ],
      "metadata": {
        "colab": {
          "base_uri": "https://localhost:8080/"
        },
        "id": "Zeuu_lZU7Tep",
        "outputId": "c917ae03-5ec8-488a-dbe9-4c344e08ec5f"
      },
      "execution_count": 11,
      "outputs": [
        {
          "output_type": "execute_result",
          "data": {
            "text/plain": [
              "3696"
            ]
          },
          "metadata": {},
          "execution_count": 11
        }
      ]
    },
    {
      "cell_type": "code",
      "source": [
        "tf.keras.backend.clear_session()\n",
        "model = tf.keras.models.Sequential([\n",
        "    tf.keras.layers.InputLayer(input_shape=(128,)),\n",
        "    tf.keras.layers.Dense(512, activation='relu'),\n",
        "    tf.keras.layers.Dense(256, activation='relu'),\n",
        "    tf.keras.layers.Dense(128, activation='relu'),\n",
        "    tf.keras.layers.Dense(39, activation='softmax')\n",
        "])\n",
        "\n",
        "model.compile(optimizer='adam', loss='categorical_crossentropy', metrics=['accuracy'])\n",
        "\n",
        "model.summary()"
      ],
      "metadata": {
        "colab": {
          "base_uri": "https://localhost:8080/"
        },
        "id": "HDuG7GnytCs1",
        "outputId": "f4432382-4fd3-435e-cae8-3bfd336dd52d"
      },
      "execution_count": 12,
      "outputs": [
        {
          "output_type": "stream",
          "name": "stdout",
          "text": [
            "Model: \"sequential\"\n",
            "_________________________________________________________________\n",
            " Layer (type)                Output Shape              Param #   \n",
            "=================================================================\n",
            " dense (Dense)               (None, 512)               66048     \n",
            "                                                                 \n",
            " dense_1 (Dense)             (None, 256)               131328    \n",
            "                                                                 \n",
            " dense_2 (Dense)             (None, 128)               32896     \n",
            "                                                                 \n",
            " dense_3 (Dense)             (None, 39)                5031      \n",
            "                                                                 \n",
            "=================================================================\n",
            "Total params: 235,303\n",
            "Trainable params: 235,303\n",
            "Non-trainable params: 0\n",
            "_________________________________________________________________\n"
          ]
        }
      ]
    },
    {
      "cell_type": "code",
      "source": [
        "history = model.fit(acoustic_features_[:training_size], label_vectors_[:training_size],\n",
        "                    epochs=200,\n",
        "                    validation_data=(acoustic_features_[training_size:], label_vectors_[training_size:]))"
      ],
      "metadata": {
        "id": "M-Jceypl6Rf6",
        "colab": {
          "base_uri": "https://localhost:8080/"
        },
        "outputId": "81c02969-8129-40cd-a4d0-7485e9844811"
      },
      "execution_count": 14,
      "outputs": [
        {
          "output_type": "stream",
          "name": "stdout",
          "text": [
            "Epoch 1/200\n",
            "116/116 [==============================] - 0s 3ms/step - loss: 34969407488.0000 - accuracy: 0.0387 - val_loss: 34776145920.0000 - val_accuracy: 0.0000e+00\n",
            "Epoch 2/200\n",
            "116/116 [==============================] - 0s 3ms/step - loss: 39447117824.0000 - accuracy: 0.0354 - val_loss: 39974383616.0000 - val_accuracy: 0.0000e+00\n",
            "Epoch 3/200\n",
            "116/116 [==============================] - 0s 3ms/step - loss: 43648397312.0000 - accuracy: 0.0330 - val_loss: 43653111808.0000 - val_accuracy: 0.4545\n",
            "Epoch 4/200\n",
            "116/116 [==============================] - 0s 3ms/step - loss: 50416996352.0000 - accuracy: 0.0344 - val_loss: 50256179200.0000 - val_accuracy: 0.0000e+00\n",
            "Epoch 5/200\n",
            "116/116 [==============================] - 0s 3ms/step - loss: 55000788992.0000 - accuracy: 0.0379 - val_loss: 55409954816.0000 - val_accuracy: 0.0000e+00\n",
            "Epoch 6/200\n",
            "116/116 [==============================] - 0s 3ms/step - loss: 60897738752.0000 - accuracy: 0.0308 - val_loss: 61777027072.0000 - val_accuracy: 0.0000e+00\n",
            "Epoch 7/200\n",
            "116/116 [==============================] - 0s 3ms/step - loss: 68213407744.0000 - accuracy: 0.0438 - val_loss: 65280401408.0000 - val_accuracy: 0.0000e+00\n",
            "Epoch 8/200\n",
            "116/116 [==============================] - 0s 3ms/step - loss: 73512566784.0000 - accuracy: 0.0368 - val_loss: 73536069632.0000 - val_accuracy: 0.0000e+00\n",
            "Epoch 9/200\n",
            "116/116 [==============================] - 0s 3ms/step - loss: 80585940992.0000 - accuracy: 0.0376 - val_loss: 80598974464.0000 - val_accuracy: 0.0000e+00\n",
            "Epoch 10/200\n",
            "116/116 [==============================] - 0s 3ms/step - loss: 88967553024.0000 - accuracy: 0.0381 - val_loss: 87895547904.0000 - val_accuracy: 0.0000e+00\n",
            "Epoch 11/200\n",
            "116/116 [==============================] - 0s 3ms/step - loss: 96938975232.0000 - accuracy: 0.0457 - val_loss: 94252752896.0000 - val_accuracy: 0.0000e+00\n",
            "Epoch 12/200\n",
            "116/116 [==============================] - 0s 3ms/step - loss: 105760718848.0000 - accuracy: 0.0371 - val_loss: 103155367936.0000 - val_accuracy: 0.0000e+00\n",
            "Epoch 13/200\n",
            "116/116 [==============================] - 0s 3ms/step - loss: 114802073600.0000 - accuracy: 0.0349 - val_loss: 111343656960.0000 - val_accuracy: 0.4545\n",
            "Epoch 14/200\n",
            "116/116 [==============================] - 0s 3ms/step - loss: 124408455168.0000 - accuracy: 0.0400 - val_loss: 123374305280.0000 - val_accuracy: 0.0000e+00\n",
            "Epoch 15/200\n",
            "116/116 [==============================] - 0s 3ms/step - loss: 133821014016.0000 - accuracy: 0.0384 - val_loss: 133034647552.0000 - val_accuracy: 0.0000e+00\n",
            "Epoch 16/200\n",
            "116/116 [==============================] - 0s 3ms/step - loss: 144803037184.0000 - accuracy: 0.0381 - val_loss: 141964148736.0000 - val_accuracy: 0.0065\n",
            "Epoch 17/200\n",
            "116/116 [==============================] - 0s 3ms/step - loss: 154563805184.0000 - accuracy: 0.0363 - val_loss: 151426269184.0000 - val_accuracy: 0.0097\n",
            "Epoch 18/200\n",
            "116/116 [==============================] - 0s 3ms/step - loss: 169346334720.0000 - accuracy: 0.0363 - val_loss: 165079875584.0000 - val_accuracy: 0.0000e+00\n",
            "Epoch 19/200\n",
            "116/116 [==============================] - 0s 3ms/step - loss: 178334777344.0000 - accuracy: 0.0376 - val_loss: 172610043904.0000 - val_accuracy: 0.0000e+00\n",
            "Epoch 20/200\n",
            "116/116 [==============================] - 0s 3ms/step - loss: 191943819264.0000 - accuracy: 0.0325 - val_loss: 187532918784.0000 - val_accuracy: 0.0000e+00\n",
            "Epoch 21/200\n",
            "116/116 [==============================] - 0s 3ms/step - loss: 204291162112.0000 - accuracy: 0.0373 - val_loss: 197293883392.0000 - val_accuracy: 0.0000e+00\n",
            "Epoch 22/200\n",
            "116/116 [==============================] - 0s 3ms/step - loss: 218939359232.0000 - accuracy: 0.0308 - val_loss: 212595687424.0000 - val_accuracy: 0.4545\n",
            "Epoch 23/200\n",
            "116/116 [==============================] - 0s 3ms/step - loss: 235405164544.0000 - accuracy: 0.0441 - val_loss: 230266961920.0000 - val_accuracy: 0.0000e+00\n",
            "Epoch 24/200\n",
            "116/116 [==============================] - 0s 3ms/step - loss: 249298829312.0000 - accuracy: 0.0373 - val_loss: 239524790272.0000 - val_accuracy: 0.4545\n",
            "Epoch 25/200\n",
            "116/116 [==============================] - 0s 3ms/step - loss: 265206284288.0000 - accuracy: 0.0430 - val_loss: 252803432448.0000 - val_accuracy: 0.0000e+00\n",
            "Epoch 26/200\n",
            "116/116 [==============================] - 0s 3ms/step - loss: 280898797568.0000 - accuracy: 0.0341 - val_loss: 270660091904.0000 - val_accuracy: 0.0032\n",
            "Epoch 27/200\n",
            "116/116 [==============================] - 0s 3ms/step - loss: 299508826112.0000 - accuracy: 0.0414 - val_loss: 290883010560.0000 - val_accuracy: 0.0000e+00\n",
            "Epoch 28/200\n",
            "116/116 [==============================] - 0s 3ms/step - loss: 317634576384.0000 - accuracy: 0.0295 - val_loss: 303491121152.0000 - val_accuracy: 0.0000e+00\n",
            "Epoch 29/200\n",
            "116/116 [==============================] - 0s 3ms/step - loss: 334363820032.0000 - accuracy: 0.0460 - val_loss: 321406697472.0000 - val_accuracy: 0.0000e+00\n",
            "Epoch 30/200\n",
            "116/116 [==============================] - 0s 3ms/step - loss: 353011564544.0000 - accuracy: 0.0409 - val_loss: 336558325760.0000 - val_accuracy: 0.0000e+00\n",
            "Epoch 31/200\n",
            "116/116 [==============================] - 0s 3ms/step - loss: 372715290624.0000 - accuracy: 0.0344 - val_loss: 365079035904.0000 - val_accuracy: 0.0000e+00\n",
            "Epoch 32/200\n",
            "116/116 [==============================] - 0s 3ms/step - loss: 395962843136.0000 - accuracy: 0.0360 - val_loss: 380575023104.0000 - val_accuracy: 0.0000e+00\n",
            "Epoch 33/200\n",
            "116/116 [==============================] - 0s 3ms/step - loss: 416647151616.0000 - accuracy: 0.0384 - val_loss: 406782967808.0000 - val_accuracy: 0.0000e+00\n",
            "Epoch 34/200\n",
            "116/116 [==============================] - 0s 3ms/step - loss: 438951739392.0000 - accuracy: 0.0360 - val_loss: 430635679744.0000 - val_accuracy: 0.0000e+00\n",
            "Epoch 35/200\n",
            "116/116 [==============================] - 0s 3ms/step - loss: 461773996032.0000 - accuracy: 0.0387 - val_loss: 443080310784.0000 - val_accuracy: 0.0000e+00\n",
            "Epoch 36/200\n",
            "116/116 [==============================] - 0s 3ms/step - loss: 484762976256.0000 - accuracy: 0.0344 - val_loss: 474081230848.0000 - val_accuracy: 0.0000e+00\n",
            "Epoch 37/200\n",
            "116/116 [==============================] - 0s 3ms/step - loss: 509644701696.0000 - accuracy: 0.0352 - val_loss: 492707315712.0000 - val_accuracy: 0.0097\n",
            "Epoch 38/200\n",
            "116/116 [==============================] - 0s 3ms/step - loss: 535431970816.0000 - accuracy: 0.0376 - val_loss: 506221330432.0000 - val_accuracy: 0.0065\n",
            "Epoch 39/200\n",
            "116/116 [==============================] - 0s 3ms/step - loss: 561476141056.0000 - accuracy: 0.0349 - val_loss: 534030450688.0000 - val_accuracy: 0.4545\n",
            "Epoch 40/200\n",
            "116/116 [==============================] - 0s 3ms/step - loss: 585256206336.0000 - accuracy: 0.0373 - val_loss: 561916411904.0000 - val_accuracy: 0.0000e+00\n",
            "Epoch 41/200\n",
            "116/116 [==============================] - 0s 3ms/step - loss: 615408467968.0000 - accuracy: 0.0325 - val_loss: 592991485952.0000 - val_accuracy: 0.0000e+00\n",
            "Epoch 42/200\n",
            "116/116 [==============================] - 0s 3ms/step - loss: 651095375872.0000 - accuracy: 0.0381 - val_loss: 619809931264.0000 - val_accuracy: 0.0097\n",
            "Epoch 43/200\n",
            "116/116 [==============================] - 0s 3ms/step - loss: 669898113024.0000 - accuracy: 0.0398 - val_loss: 635296415744.0000 - val_accuracy: 0.0000e+00\n",
            "Epoch 44/200\n",
            "116/116 [==============================] - 0s 3ms/step - loss: 703151669248.0000 - accuracy: 0.0387 - val_loss: 670926110720.0000 - val_accuracy: 0.4545\n",
            "Epoch 45/200\n",
            "116/116 [==============================] - 0s 3ms/step - loss: 734996922368.0000 - accuracy: 0.0363 - val_loss: 700892643328.0000 - val_accuracy: 0.0000e+00\n",
            "Epoch 46/200\n",
            "116/116 [==============================] - 0s 3ms/step - loss: 765034954752.0000 - accuracy: 0.0433 - val_loss: 734035640320.0000 - val_accuracy: 0.4545\n",
            "Epoch 47/200\n",
            "116/116 [==============================] - 0s 3ms/step - loss: 799243763712.0000 - accuracy: 0.0368 - val_loss: 768406781952.0000 - val_accuracy: 0.0000e+00\n",
            "Epoch 48/200\n",
            "116/116 [==============================] - 0s 3ms/step - loss: 837239963648.0000 - accuracy: 0.0357 - val_loss: 805756731392.0000 - val_accuracy: 0.0000e+00\n",
            "Epoch 49/200\n",
            "116/116 [==============================] - 0s 3ms/step - loss: 877863567360.0000 - accuracy: 0.0390 - val_loss: 836469260288.0000 - val_accuracy: 0.0000e+00\n",
            "Epoch 50/200\n",
            "116/116 [==============================] - 0s 3ms/step - loss: 916856569856.0000 - accuracy: 0.0349 - val_loss: 860374564864.0000 - val_accuracy: 0.0000e+00\n",
            "Epoch 51/200\n",
            "116/116 [==============================] - 0s 3ms/step - loss: 946886606848.0000 - accuracy: 0.0400 - val_loss: 910983888896.0000 - val_accuracy: 0.0000e+00\n",
            "Epoch 52/200\n",
            "116/116 [==============================] - 0s 3ms/step - loss: 992913391616.0000 - accuracy: 0.0303 - val_loss: 941707427840.0000 - val_accuracy: 0.0000e+00\n",
            "Epoch 53/200\n",
            "116/116 [==============================] - 0s 3ms/step - loss: 1034852827136.0000 - accuracy: 0.0392 - val_loss: 983216488448.0000 - val_accuracy: 0.0000e+00\n",
            "Epoch 54/200\n",
            "116/116 [==============================] - 0s 3ms/step - loss: 1068229263360.0000 - accuracy: 0.0376 - val_loss: 1017681739776.0000 - val_accuracy: 0.0000e+00\n",
            "Epoch 55/200\n",
            "116/116 [==============================] - 0s 3ms/step - loss: 1111104290816.0000 - accuracy: 0.0354 - val_loss: 1056013680640.0000 - val_accuracy: 0.0000e+00\n",
            "Epoch 56/200\n",
            "116/116 [==============================] - 0s 3ms/step - loss: 1159145586688.0000 - accuracy: 0.0390 - val_loss: 1103833726976.0000 - val_accuracy: 0.0000e+00\n",
            "Epoch 57/200\n",
            "116/116 [==============================] - 0s 3ms/step - loss: 1205461188608.0000 - accuracy: 0.0327 - val_loss: 1144989417472.0000 - val_accuracy: 0.0000e+00\n",
            "Epoch 58/200\n",
            "116/116 [==============================] - 0s 3ms/step - loss: 1262052442112.0000 - accuracy: 0.0327 - val_loss: 1200502472704.0000 - val_accuracy: 0.0000e+00\n",
            "Epoch 59/200\n",
            "116/116 [==============================] - 0s 3ms/step - loss: 1298874630144.0000 - accuracy: 0.0400 - val_loss: 1249690255360.0000 - val_accuracy: 0.4545\n",
            "Epoch 60/200\n",
            "116/116 [==============================] - 0s 3ms/step - loss: 1338514472960.0000 - accuracy: 0.0403 - val_loss: 1264104505344.0000 - val_accuracy: 0.0260\n",
            "Epoch 61/200\n",
            "116/116 [==============================] - 0s 3ms/step - loss: 1390443364352.0000 - accuracy: 0.0406 - val_loss: 1321427271680.0000 - val_accuracy: 0.0000e+00\n",
            "Epoch 62/200\n",
            "116/116 [==============================] - 0s 3ms/step - loss: 1438760960000.0000 - accuracy: 0.0381 - val_loss: 1360307027968.0000 - val_accuracy: 0.4545\n",
            "Epoch 63/200\n",
            "116/116 [==============================] - 0s 3ms/step - loss: 1482834575360.0000 - accuracy: 0.0392 - val_loss: 1408426573824.0000 - val_accuracy: 0.0065\n",
            "Epoch 64/200\n",
            "116/116 [==============================] - 0s 3ms/step - loss: 1537550188544.0000 - accuracy: 0.0381 - val_loss: 1463686791168.0000 - val_accuracy: 0.0000e+00\n",
            "Epoch 65/200\n",
            "116/116 [==============================] - 0s 3ms/step - loss: 1600766476288.0000 - accuracy: 0.0390 - val_loss: 1519118450688.0000 - val_accuracy: 0.0000e+00\n",
            "Epoch 66/200\n",
            "116/116 [==============================] - 0s 3ms/step - loss: 1657485787136.0000 - accuracy: 0.0352 - val_loss: 1559502913536.0000 - val_accuracy: 0.0000e+00\n",
            "Epoch 67/200\n",
            "116/116 [==============================] - 0s 3ms/step - loss: 1720901828608.0000 - accuracy: 0.0371 - val_loss: 1629443588096.0000 - val_accuracy: 0.0000e+00\n",
            "Epoch 68/200\n",
            "116/116 [==============================] - 0s 3ms/step - loss: 1776513974272.0000 - accuracy: 0.0411 - val_loss: 1700688822272.0000 - val_accuracy: 0.0000e+00\n",
            "Epoch 69/200\n",
            "116/116 [==============================] - 0s 3ms/step - loss: 1845512241152.0000 - accuracy: 0.0363 - val_loss: 1760637616128.0000 - val_accuracy: 0.0000e+00\n",
            "Epoch 70/200\n",
            "116/116 [==============================] - 0s 3ms/step - loss: 1897256976384.0000 - accuracy: 0.0414 - val_loss: 1811866583040.0000 - val_accuracy: 0.0000e+00\n",
            "Epoch 71/200\n",
            "116/116 [==============================] - 0s 3ms/step - loss: 1960023162880.0000 - accuracy: 0.0338 - val_loss: 1873312088064.0000 - val_accuracy: 0.0000e+00\n",
            "Epoch 72/200\n",
            "116/116 [==============================] - 0s 3ms/step - loss: 2011353448448.0000 - accuracy: 0.0384 - val_loss: 1922923495424.0000 - val_accuracy: 0.0000e+00\n",
            "Epoch 73/200\n",
            "116/116 [==============================] - 0s 3ms/step - loss: 2083596271616.0000 - accuracy: 0.0300 - val_loss: 1991230357504.0000 - val_accuracy: 0.4545\n",
            "Epoch 74/200\n",
            "116/116 [==============================] - 0s 3ms/step - loss: 2156385927168.0000 - accuracy: 0.0473 - val_loss: 2051382575104.0000 - val_accuracy: 0.0000e+00\n",
            "Epoch 75/200\n",
            "116/116 [==============================] - 0s 3ms/step - loss: 2217645441024.0000 - accuracy: 0.0360 - val_loss: 2100230356992.0000 - val_accuracy: 0.0000e+00\n",
            "Epoch 76/200\n",
            "116/116 [==============================] - 0s 3ms/step - loss: 2299191099392.0000 - accuracy: 0.0381 - val_loss: 2169826705408.0000 - val_accuracy: 0.0097\n",
            "Epoch 77/200\n",
            "116/116 [==============================] - 0s 3ms/step - loss: 2366471405568.0000 - accuracy: 0.0311 - val_loss: 2256116121600.0000 - val_accuracy: 0.0552\n",
            "Epoch 78/200\n",
            "116/116 [==============================] - 0s 3ms/step - loss: 2445772324864.0000 - accuracy: 0.0392 - val_loss: 2319778054144.0000 - val_accuracy: 0.0097\n",
            "Epoch 79/200\n",
            "116/116 [==============================] - 0s 3ms/step - loss: 2523042938880.0000 - accuracy: 0.0384 - val_loss: 2380479856640.0000 - val_accuracy: 0.0000e+00\n",
            "Epoch 80/200\n",
            "116/116 [==============================] - 0s 3ms/step - loss: 2592252362752.0000 - accuracy: 0.0425 - val_loss: 2446983430144.0000 - val_accuracy: 0.0097\n",
            "Epoch 81/200\n",
            "116/116 [==============================] - 0s 3ms/step - loss: 2671375810560.0000 - accuracy: 0.0371 - val_loss: 2545107861504.0000 - val_accuracy: 0.0000e+00\n",
            "Epoch 82/200\n",
            "116/116 [==============================] - 0s 3ms/step - loss: 2757954109440.0000 - accuracy: 0.0395 - val_loss: 2618870726656.0000 - val_accuracy: 0.0000e+00\n",
            "Epoch 83/200\n",
            "116/116 [==============================] - 0s 3ms/step - loss: 2852751933440.0000 - accuracy: 0.0422 - val_loss: 2672494903296.0000 - val_accuracy: 0.0000e+00\n",
            "Epoch 84/200\n",
            "116/116 [==============================] - 0s 3ms/step - loss: 2911188549632.0000 - accuracy: 0.0390 - val_loss: 2774907486208.0000 - val_accuracy: 0.0097\n",
            "Epoch 85/200\n",
            "116/116 [==============================] - 0s 3ms/step - loss: 2998311321600.0000 - accuracy: 0.0368 - val_loss: 2867821543424.0000 - val_accuracy: 0.0000e+00\n",
            "Epoch 86/200\n",
            "116/116 [==============================] - 0s 3ms/step - loss: 3100823519232.0000 - accuracy: 0.0379 - val_loss: 2948637917184.0000 - val_accuracy: 0.0097\n",
            "Epoch 87/200\n",
            "116/116 [==============================] - 0s 3ms/step - loss: 3175569424384.0000 - accuracy: 0.0444 - val_loss: 3013035163648.0000 - val_accuracy: 0.0097\n",
            "Epoch 88/200\n",
            "116/116 [==============================] - 0s 3ms/step - loss: 3268700798976.0000 - accuracy: 0.0338 - val_loss: 3102908874752.0000 - val_accuracy: 0.0000e+00\n",
            "Epoch 89/200\n",
            "116/116 [==============================] - 0s 3ms/step - loss: 3374220312576.0000 - accuracy: 0.0390 - val_loss: 3177224077312.0000 - val_accuracy: 0.0000e+00\n",
            "Epoch 90/200\n",
            "116/116 [==============================] - 0s 3ms/step - loss: 3460665704448.0000 - accuracy: 0.0325 - val_loss: 3275851563008.0000 - val_accuracy: 0.0097\n",
            "Epoch 91/200\n",
            "116/116 [==============================] - 0s 3ms/step - loss: 3567212036096.0000 - accuracy: 0.0373 - val_loss: 3360926728192.0000 - val_accuracy: 0.0097\n",
            "Epoch 92/200\n",
            "116/116 [==============================] - 0s 3ms/step - loss: 3659210686464.0000 - accuracy: 0.0371 - val_loss: 3459574661120.0000 - val_accuracy: 0.0000e+00\n",
            "Epoch 93/200\n",
            "116/116 [==============================] - 0s 3ms/step - loss: 3751576862720.0000 - accuracy: 0.0446 - val_loss: 3514709573632.0000 - val_accuracy: 0.0000e+00\n",
            "Epoch 94/200\n",
            "116/116 [==============================] - 0s 3ms/step - loss: 3832361779200.0000 - accuracy: 0.0314 - val_loss: 3642872823808.0000 - val_accuracy: 0.0097\n",
            "Epoch 95/200\n",
            "116/116 [==============================] - 0s 3ms/step - loss: 3954377490432.0000 - accuracy: 0.0411 - val_loss: 3773763158016.0000 - val_accuracy: 0.0000e+00\n",
            "Epoch 96/200\n",
            "116/116 [==============================] - 0s 3ms/step - loss: 4066349154304.0000 - accuracy: 0.0311 - val_loss: 3886492680192.0000 - val_accuracy: 0.0000e+00\n",
            "Epoch 97/200\n",
            "116/116 [==============================] - 0s 3ms/step - loss: 4195334488064.0000 - accuracy: 0.0381 - val_loss: 3965891641344.0000 - val_accuracy: 0.0000e+00\n",
            "Epoch 98/200\n",
            "116/116 [==============================] - 0s 3ms/step - loss: 4297989816320.0000 - accuracy: 0.0330 - val_loss: 4061987078144.0000 - val_accuracy: 0.0000e+00\n",
            "Epoch 99/200\n",
            "116/116 [==============================] - 0s 3ms/step - loss: 4411044659200.0000 - accuracy: 0.0381 - val_loss: 4147182305280.0000 - val_accuracy: 0.0000e+00\n",
            "Epoch 100/200\n",
            "116/116 [==============================] - 0s 3ms/step - loss: 4552410005504.0000 - accuracy: 0.0419 - val_loss: 4270710587392.0000 - val_accuracy: 0.0000e+00\n",
            "Epoch 101/200\n",
            "116/116 [==============================] - 0s 3ms/step - loss: 4654139703296.0000 - accuracy: 0.0363 - val_loss: 4418124644352.0000 - val_accuracy: 0.0000e+00\n",
            "Epoch 102/200\n",
            "116/116 [==============================] - 0s 3ms/step - loss: 4784977870848.0000 - accuracy: 0.0376 - val_loss: 4485455806464.0000 - val_accuracy: 0.0097\n",
            "Epoch 103/200\n",
            "116/116 [==============================] - 0s 3ms/step - loss: 4889936658432.0000 - accuracy: 0.0341 - val_loss: 4633398345728.0000 - val_accuracy: 0.0097\n",
            "Epoch 104/200\n",
            "116/116 [==============================] - 0s 3ms/step - loss: 5024830717952.0000 - accuracy: 0.0338 - val_loss: 4698880868352.0000 - val_accuracy: 0.0000e+00\n",
            "Epoch 105/200\n",
            "116/116 [==============================] - 0s 3ms/step - loss: 5132619087872.0000 - accuracy: 0.0381 - val_loss: 4861635067904.0000 - val_accuracy: 0.0000e+00\n",
            "Epoch 106/200\n",
            "116/116 [==============================] - 0s 3ms/step - loss: 5257004318720.0000 - accuracy: 0.0314 - val_loss: 4965481840640.0000 - val_accuracy: 0.0076\n",
            "Epoch 107/200\n",
            "116/116 [==============================] - 0s 3ms/step - loss: 5367748100096.0000 - accuracy: 0.0365 - val_loss: 5126095372288.0000 - val_accuracy: 0.0000e+00\n",
            "Epoch 108/200\n",
            "116/116 [==============================] - 0s 3ms/step - loss: 5552098246656.0000 - accuracy: 0.0349 - val_loss: 5193270296576.0000 - val_accuracy: 0.0000e+00\n",
            "Epoch 109/200\n",
            "116/116 [==============================] - 0s 3ms/step - loss: 5668479696896.0000 - accuracy: 0.0392 - val_loss: 5291223023616.0000 - val_accuracy: 0.0000e+00\n",
            "Epoch 110/200\n",
            "116/116 [==============================] - 0s 3ms/step - loss: 5790105075712.0000 - accuracy: 0.0327 - val_loss: 5512977448960.0000 - val_accuracy: 0.0000e+00\n",
            "Epoch 111/200\n",
            "116/116 [==============================] - 0s 3ms/step - loss: 5942771449856.0000 - accuracy: 0.0363 - val_loss: 5597828743168.0000 - val_accuracy: 0.0000e+00\n",
            "Epoch 112/200\n",
            "116/116 [==============================] - 0s 3ms/step - loss: 6073514721280.0000 - accuracy: 0.0417 - val_loss: 5718497820672.0000 - val_accuracy: 0.0000e+00\n",
            "Epoch 113/200\n",
            "116/116 [==============================] - 0s 3ms/step - loss: 6183521878016.0000 - accuracy: 0.0352 - val_loss: 5841309138944.0000 - val_accuracy: 0.0000e+00\n",
            "Epoch 114/200\n",
            "116/116 [==============================] - 0s 3ms/step - loss: 6374989234176.0000 - accuracy: 0.0357 - val_loss: 5972317700096.0000 - val_accuracy: 0.0000e+00\n",
            "Epoch 115/200\n",
            "116/116 [==============================] - 0s 3ms/step - loss: 6496729956352.0000 - accuracy: 0.0387 - val_loss: 6139221639168.0000 - val_accuracy: 0.0000e+00\n",
            "Epoch 116/200\n",
            "116/116 [==============================] - 0s 3ms/step - loss: 6645538095104.0000 - accuracy: 0.0381 - val_loss: 6284263817216.0000 - val_accuracy: 0.0000e+00\n",
            "Epoch 117/200\n",
            "116/116 [==============================] - 0s 3ms/step - loss: 6827084349440.0000 - accuracy: 0.0392 - val_loss: 6419305725952.0000 - val_accuracy: 0.0000e+00\n",
            "Epoch 118/200\n",
            "116/116 [==============================] - 0s 3ms/step - loss: 6963504611328.0000 - accuracy: 0.0409 - val_loss: 6515277692928.0000 - val_accuracy: 0.0000e+00\n",
            "Epoch 119/200\n",
            "116/116 [==============================] - 0s 3ms/step - loss: 7110905561088.0000 - accuracy: 0.0403 - val_loss: 6740119126016.0000 - val_accuracy: 0.0097\n",
            "Epoch 120/200\n",
            "116/116 [==============================] - 0s 3ms/step - loss: 7305789702144.0000 - accuracy: 0.0330 - val_loss: 6893509541888.0000 - val_accuracy: 0.0000e+00\n",
            "Epoch 121/200\n",
            "116/116 [==============================] - 0s 3ms/step - loss: 7462483132416.0000 - accuracy: 0.0381 - val_loss: 6968744869888.0000 - val_accuracy: 0.0000e+00\n",
            "Epoch 122/200\n",
            "116/116 [==============================] - 0s 3ms/step - loss: 7612557950976.0000 - accuracy: 0.0338 - val_loss: 7163429257216.0000 - val_accuracy: 0.0000e+00\n",
            "Epoch 123/200\n",
            "116/116 [==============================] - 0s 3ms/step - loss: 7786598498304.0000 - accuracy: 0.0325 - val_loss: 7392169820160.0000 - val_accuracy: 0.0000e+00\n",
            "Epoch 124/200\n",
            "116/116 [==============================] - 0s 3ms/step - loss: 7973726322688.0000 - accuracy: 0.0509 - val_loss: 7481704579072.0000 - val_accuracy: 0.0000e+00\n",
            "Epoch 125/200\n",
            "116/116 [==============================] - 0s 3ms/step - loss: 8101512085504.0000 - accuracy: 0.0373 - val_loss: 7699278331904.0000 - val_accuracy: 0.0000e+00\n",
            "Epoch 126/200\n",
            "116/116 [==============================] - 0s 3ms/step - loss: 8304060792832.0000 - accuracy: 0.0349 - val_loss: 7779210756096.0000 - val_accuracy: 0.0000e+00\n",
            "Epoch 127/200\n",
            "116/116 [==============================] - 0s 3ms/step - loss: 8468707672064.0000 - accuracy: 0.0279 - val_loss: 7992300797952.0000 - val_accuracy: 0.0000e+00\n",
            "Epoch 128/200\n",
            "116/116 [==============================] - 0s 3ms/step - loss: 8644632510464.0000 - accuracy: 0.0357 - val_loss: 8117864628224.0000 - val_accuracy: 0.0000e+00\n",
            "Epoch 129/200\n",
            "116/116 [==============================] - 0s 4ms/step - loss: 8841652600832.0000 - accuracy: 0.0409 - val_loss: 8326624051200.0000 - val_accuracy: 0.0000e+00\n",
            "Epoch 130/200\n",
            "116/116 [==============================] - 0s 3ms/step - loss: 9043559055360.0000 - accuracy: 0.0365 - val_loss: 8485060739072.0000 - val_accuracy: 0.0000e+00\n",
            "Epoch 131/200\n",
            "116/116 [==============================] - 0s 3ms/step - loss: 9213592993792.0000 - accuracy: 0.0457 - val_loss: 8632087347200.0000 - val_accuracy: 0.0000e+00\n",
            "Epoch 132/200\n",
            "116/116 [==============================] - 0s 3ms/step - loss: 9401482084352.0000 - accuracy: 0.0330 - val_loss: 8840617656320.0000 - val_accuracy: 0.0000e+00\n",
            "Epoch 133/200\n",
            "116/116 [==============================] - 0s 3ms/step - loss: 9626081820672.0000 - accuracy: 0.0392 - val_loss: 9041835196416.0000 - val_accuracy: 0.0000e+00\n",
            "Epoch 134/200\n",
            "116/116 [==============================] - 0s 3ms/step - loss: 9795545333760.0000 - accuracy: 0.0411 - val_loss: 9168294510592.0000 - val_accuracy: 0.0022\n",
            "Epoch 135/200\n",
            "116/116 [==============================] - 0s 3ms/step - loss: 9974520479744.0000 - accuracy: 0.0398 - val_loss: 9431248011264.0000 - val_accuracy: 0.0000e+00\n",
            "Epoch 136/200\n",
            "116/116 [==============================] - 0s 3ms/step - loss: 10219502436352.0000 - accuracy: 0.0392 - val_loss: 9566397923328.0000 - val_accuracy: 0.0000e+00\n",
            "Epoch 137/200\n",
            "116/116 [==============================] - 0s 3ms/step - loss: 10426014236672.0000 - accuracy: 0.0379 - val_loss: 9754750484480.0000 - val_accuracy: 0.0000e+00\n",
            "Epoch 138/200\n",
            "116/116 [==============================] - 0s 3ms/step - loss: 10620576464896.0000 - accuracy: 0.0371 - val_loss: 10007192010752.0000 - val_accuracy: 0.4545\n",
            "Epoch 139/200\n",
            "116/116 [==============================] - 0s 3ms/step - loss: 10846278254592.0000 - accuracy: 0.0422 - val_loss: 10199839539200.0000 - val_accuracy: 0.0260\n",
            "Epoch 140/200\n",
            "116/116 [==============================] - 0s 3ms/step - loss: 11058514231296.0000 - accuracy: 0.0306 - val_loss: 10418624921600.0000 - val_accuracy: 0.0000e+00\n",
            "Epoch 141/200\n",
            "116/116 [==============================] - 0s 3ms/step - loss: 11238880837632.0000 - accuracy: 0.0406 - val_loss: 10547397394432.0000 - val_accuracy: 0.0000e+00\n",
            "Epoch 142/200\n",
            "116/116 [==============================] - 0s 3ms/step - loss: 11468580847616.0000 - accuracy: 0.0373 - val_loss: 10790822215680.0000 - val_accuracy: 0.0097\n",
            "Epoch 143/200\n",
            "116/116 [==============================] - 0s 3ms/step - loss: 11710153883648.0000 - accuracy: 0.0379 - val_loss: 11045338873856.0000 - val_accuracy: 0.0000e+00\n",
            "Epoch 144/200\n",
            "116/116 [==============================] - 0s 3ms/step - loss: 11931179024384.0000 - accuracy: 0.0319 - val_loss: 11200270172160.0000 - val_accuracy: 0.0000e+00\n",
            "Epoch 145/200\n",
            "116/116 [==============================] - 0s 3ms/step - loss: 12173400080384.0000 - accuracy: 0.0417 - val_loss: 11478084091904.0000 - val_accuracy: 0.0000e+00\n",
            "Epoch 146/200\n",
            "116/116 [==============================] - 0s 3ms/step - loss: 12372286636032.0000 - accuracy: 0.0384 - val_loss: 11627444305920.0000 - val_accuracy: 0.0097\n",
            "Epoch 147/200\n",
            "116/116 [==============================] - 0s 3ms/step - loss: 12618014130176.0000 - accuracy: 0.0422 - val_loss: 11859003441152.0000 - val_accuracy: 0.0000e+00\n",
            "Epoch 148/200\n",
            "116/116 [==============================] - 0s 3ms/step - loss: 12871217971200.0000 - accuracy: 0.0352 - val_loss: 12037866389504.0000 - val_accuracy: 0.0000e+00\n",
            "Epoch 149/200\n",
            "116/116 [==============================] - 0s 3ms/step - loss: 13143030890496.0000 - accuracy: 0.0403 - val_loss: 12410411810816.0000 - val_accuracy: 0.0097\n",
            "Epoch 150/200\n",
            "116/116 [==============================] - 0s 3ms/step - loss: 13404461858816.0000 - accuracy: 0.0395 - val_loss: 12580031561728.0000 - val_accuracy: 0.4545\n",
            "Epoch 151/200\n",
            "116/116 [==============================] - 0s 3ms/step - loss: 13620380434432.0000 - accuracy: 0.0387 - val_loss: 12799025610752.0000 - val_accuracy: 0.0000e+00\n",
            "Epoch 152/200\n",
            "116/116 [==============================] - 0s 3ms/step - loss: 13871153676288.0000 - accuracy: 0.0392 - val_loss: 13026533048320.0000 - val_accuracy: 0.0552\n",
            "Epoch 153/200\n",
            "116/116 [==============================] - 0s 3ms/step - loss: 14135803772928.0000 - accuracy: 0.0371 - val_loss: 13250427092992.0000 - val_accuracy: 0.0000e+00\n",
            "Epoch 154/200\n",
            "116/116 [==============================] - 0s 3ms/step - loss: 14420922073088.0000 - accuracy: 0.0392 - val_loss: 13505518370816.0000 - val_accuracy: 0.0000e+00\n",
            "Epoch 155/200\n",
            "116/116 [==============================] - 0s 3ms/step - loss: 14661156077568.0000 - accuracy: 0.0381 - val_loss: 13784083070976.0000 - val_accuracy: 0.0552\n",
            "Epoch 156/200\n",
            "116/116 [==============================] - 0s 3ms/step - loss: 14955817467904.0000 - accuracy: 0.0381 - val_loss: 14096057499648.0000 - val_accuracy: 0.0065\n",
            "Epoch 157/200\n",
            "116/116 [==============================] - 0s 3ms/step - loss: 15217648992256.0000 - accuracy: 0.0373 - val_loss: 14297240436736.0000 - val_accuracy: 0.0000e+00\n",
            "Epoch 158/200\n",
            "116/116 [==============================] - 0s 4ms/step - loss: 15500162629632.0000 - accuracy: 0.0384 - val_loss: 14485539520512.0000 - val_accuracy: 0.0000e+00\n",
            "Epoch 159/200\n",
            "116/116 [==============================] - 0s 3ms/step - loss: 15700910407680.0000 - accuracy: 0.0384 - val_loss: 14773473247232.0000 - val_accuracy: 0.0260\n",
            "Epoch 160/200\n",
            "116/116 [==============================] - 0s 3ms/step - loss: 16060579315712.0000 - accuracy: 0.0344 - val_loss: 15151102164992.0000 - val_accuracy: 0.0000e+00\n",
            "Epoch 161/200\n",
            "116/116 [==============================] - 0s 3ms/step - loss: 16334859534336.0000 - accuracy: 0.0354 - val_loss: 15406146256896.0000 - val_accuracy: 0.0000e+00\n",
            "Epoch 162/200\n",
            "116/116 [==============================] - 0s 3ms/step - loss: 16619607687168.0000 - accuracy: 0.0392 - val_loss: 15412587659264.0000 - val_accuracy: 0.0000e+00\n",
            "Epoch 163/200\n",
            "116/116 [==============================] - 0s 3ms/step - loss: 16855521558528.0000 - accuracy: 0.0411 - val_loss: 15771433435136.0000 - val_accuracy: 0.0000e+00\n",
            "Epoch 164/200\n",
            "116/116 [==============================] - 0s 3ms/step - loss: 17198735163392.0000 - accuracy: 0.0354 - val_loss: 16072687222784.0000 - val_accuracy: 0.0000e+00\n",
            "Epoch 165/200\n",
            "116/116 [==============================] - 0s 3ms/step - loss: 17494147334144.0000 - accuracy: 0.0368 - val_loss: 16386622488576.0000 - val_accuracy: 0.0000e+00\n",
            "Epoch 166/200\n",
            "116/116 [==============================] - 0s 3ms/step - loss: 17810457624576.0000 - accuracy: 0.0333 - val_loss: 16732164980736.0000 - val_accuracy: 0.0000e+00\n",
            "Epoch 167/200\n",
            "116/116 [==============================] - 0s 3ms/step - loss: 18160872849408.0000 - accuracy: 0.0368 - val_loss: 16922666074112.0000 - val_accuracy: 0.0000e+00\n",
            "Epoch 168/200\n",
            "116/116 [==============================] - 0s 3ms/step - loss: 18357701050368.0000 - accuracy: 0.0409 - val_loss: 17252213587968.0000 - val_accuracy: 0.0000e+00\n",
            "Epoch 169/200\n",
            "116/116 [==============================] - 0s 3ms/step - loss: 18716735569920.0000 - accuracy: 0.0341 - val_loss: 17540972544000.0000 - val_accuracy: 0.0000e+00\n",
            "Epoch 170/200\n",
            "116/116 [==============================] - 0s 3ms/step - loss: 19102328422400.0000 - accuracy: 0.0371 - val_loss: 17838714650624.0000 - val_accuracy: 0.0000e+00\n",
            "Epoch 171/200\n",
            "116/116 [==============================] - 0s 3ms/step - loss: 19359550406656.0000 - accuracy: 0.0411 - val_loss: 18165648064512.0000 - val_accuracy: 0.0000e+00\n",
            "Epoch 172/200\n",
            "116/116 [==============================] - 0s 3ms/step - loss: 19678604820480.0000 - accuracy: 0.0425 - val_loss: 18506175217664.0000 - val_accuracy: 0.0000e+00\n",
            "Epoch 173/200\n",
            "116/116 [==============================] - 0s 3ms/step - loss: 20002035990528.0000 - accuracy: 0.0422 - val_loss: 18729356230656.0000 - val_accuracy: 0.0000e+00\n",
            "Epoch 174/200\n",
            "116/116 [==============================] - 0s 3ms/step - loss: 20315797192704.0000 - accuracy: 0.0379 - val_loss: 19136264536064.0000 - val_accuracy: 0.0000e+00\n",
            "Epoch 175/200\n",
            "116/116 [==============================] - 0s 3ms/step - loss: 20701325033472.0000 - accuracy: 0.0406 - val_loss: 19397007638528.0000 - val_accuracy: 0.0000e+00\n",
            "Epoch 176/200\n",
            "116/116 [==============================] - 0s 3ms/step - loss: 21021291708416.0000 - accuracy: 0.0344 - val_loss: 19765240266752.0000 - val_accuracy: 0.0552\n",
            "Epoch 177/200\n",
            "116/116 [==============================] - 0s 3ms/step - loss: 21436584427520.0000 - accuracy: 0.0419 - val_loss: 20136048197632.0000 - val_accuracy: 0.0000e+00\n",
            "Epoch 178/200\n",
            "116/116 [==============================] - 0s 3ms/step - loss: 21798697566208.0000 - accuracy: 0.0384 - val_loss: 20456820178944.0000 - val_accuracy: 0.0000e+00\n",
            "Epoch 179/200\n",
            "116/116 [==============================] - 0s 3ms/step - loss: 22118274170880.0000 - accuracy: 0.0368 - val_loss: 20801979940864.0000 - val_accuracy: 0.0000e+00\n",
            "Epoch 180/200\n",
            "116/116 [==============================] - 0s 3ms/step - loss: 22482291523584.0000 - accuracy: 0.0376 - val_loss: 21107144916992.0000 - val_accuracy: 0.0097\n",
            "Epoch 181/200\n",
            "116/116 [==============================] - 0s 3ms/step - loss: 22847443435520.0000 - accuracy: 0.0349 - val_loss: 21469052534784.0000 - val_accuracy: 0.0000e+00\n",
            "Epoch 182/200\n",
            "116/116 [==============================] - 0s 3ms/step - loss: 23173068226560.0000 - accuracy: 0.0422 - val_loss: 21732828119040.0000 - val_accuracy: 0.4545\n",
            "Epoch 183/200\n",
            "116/116 [==============================] - 0s 3ms/step - loss: 23578279936000.0000 - accuracy: 0.0363 - val_loss: 22027857559552.0000 - val_accuracy: 0.0000e+00\n",
            "Epoch 184/200\n",
            "116/116 [==============================] - 0s 3ms/step - loss: 23900490563584.0000 - accuracy: 0.0352 - val_loss: 22393456164864.0000 - val_accuracy: 0.0000e+00\n",
            "Epoch 185/200\n",
            "116/116 [==============================] - 0s 4ms/step - loss: 24293299716096.0000 - accuracy: 0.0390 - val_loss: 22707385139200.0000 - val_accuracy: 0.0000e+00\n",
            "Epoch 186/200\n",
            "116/116 [==============================] - 0s 4ms/step - loss: 24684785565696.0000 - accuracy: 0.0365 - val_loss: 23199905480704.0000 - val_accuracy: 0.4545\n",
            "Epoch 187/200\n",
            "116/116 [==============================] - 0s 3ms/step - loss: 25136314974208.0000 - accuracy: 0.0492 - val_loss: 23539117719552.0000 - val_accuracy: 0.0000e+00\n",
            "Epoch 188/200\n",
            "116/116 [==============================] - 0s 3ms/step - loss: 25487361441792.0000 - accuracy: 0.0344 - val_loss: 23999037833216.0000 - val_accuracy: 0.0000e+00\n",
            "Epoch 189/200\n",
            "116/116 [==============================] - 0s 3ms/step - loss: 25902417182720.0000 - accuracy: 0.0400 - val_loss: 24341628583936.0000 - val_accuracy: 0.0000e+00\n",
            "Epoch 190/200\n",
            "116/116 [==============================] - 0s 3ms/step - loss: 26327327440896.0000 - accuracy: 0.0354 - val_loss: 24600446500864.0000 - val_accuracy: 0.0000e+00\n",
            "Epoch 191/200\n",
            "116/116 [==============================] - 0s 3ms/step - loss: 26695560069120.0000 - accuracy: 0.0430 - val_loss: 25103746203648.0000 - val_accuracy: 0.0000e+00\n",
            "Epoch 192/200\n",
            "116/116 [==============================] - 0s 3ms/step - loss: 27117154729984.0000 - accuracy: 0.0333 - val_loss: 25437291937792.0000 - val_accuracy: 0.0097\n",
            "Epoch 193/200\n",
            "116/116 [==============================] - 0s 4ms/step - loss: 27548033482752.0000 - accuracy: 0.0349 - val_loss: 25680863559680.0000 - val_accuracy: 0.0097\n",
            "Epoch 194/200\n",
            "116/116 [==============================] - 0s 3ms/step - loss: 28021717204992.0000 - accuracy: 0.0400 - val_loss: 26255862792192.0000 - val_accuracy: 0.0097\n",
            "Epoch 195/200\n",
            "116/116 [==============================] - 0s 3ms/step - loss: 28414390042624.0000 - accuracy: 0.0387 - val_loss: 26681876152320.0000 - val_accuracy: 0.0097\n",
            "Epoch 196/200\n",
            "116/116 [==============================] - 0s 3ms/step - loss: 28822103654400.0000 - accuracy: 0.0411 - val_loss: 27000544690176.0000 - val_accuracy: 0.0000e+00\n",
            "Epoch 197/200\n",
            "116/116 [==============================] - 0s 3ms/step - loss: 29267230457856.0000 - accuracy: 0.0335 - val_loss: 27487283183616.0000 - val_accuracy: 0.0000e+00\n",
            "Epoch 198/200\n",
            "116/116 [==============================] - 0s 3ms/step - loss: 29801584787456.0000 - accuracy: 0.0346 - val_loss: 28085116207104.0000 - val_accuracy: 0.0000e+00\n",
            "Epoch 199/200\n",
            "116/116 [==============================] - 0s 3ms/step - loss: 30191671836672.0000 - accuracy: 0.0419 - val_loss: 28279262150656.0000 - val_accuracy: 0.0000e+00\n",
            "Epoch 200/200\n",
            "116/116 [==============================] - 0s 3ms/step - loss: 30608810049536.0000 - accuracy: 0.0354 - val_loss: 28687231614976.0000 - val_accuracy: 0.0000e+00\n"
          ]
        }
      ]
    },
    {
      "cell_type": "code",
      "source": [],
      "metadata": {
        "id": "tQGzgnXgEPgj"
      },
      "execution_count": 13,
      "outputs": []
    }
  ]
}